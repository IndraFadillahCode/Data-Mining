{
 "cells": [
  {
   "cell_type": "code",
   "execution_count": 1,
   "metadata": {},
   "outputs": [],
   "source": [
    "import numpy as np \n",
    "import matplotlib.pyplot as plt\n",
    "import pandas as pd"
   ]
  },
  {
   "cell_type": "code",
   "execution_count": 2,
   "metadata": {},
   "outputs": [],
   "source": [
    "dataset = pd.read_csv('Data.csv')\n",
    "X = dataset.iloc[:, :-1].values\n",
    "Y = dataset.iloc[:, -1].values"
   ]
  },
  {
   "cell_type": "code",
   "execution_count": 4,
   "metadata": {},
   "outputs": [
    {
     "name": "stdout",
     "output_type": "stream",
     "text": [
      "[[1 'Caps' 21.0 '900000']\n",
      " [2 'Faker' 27.0 '1000000']\n",
      " [3 'Yike' 23.0 '50000']\n",
      " [4 'Caps' 22.0 '755000']\n",
      " [5 'Faker' 25.0 ' ']\n",
      " [6 'Yike' 18.0 '300000']\n",
      " [7 'Caps' nan '300000']\n",
      " [8 'Faker' 29.0 '450000']\n",
      " [9 'Yike' 20.0 '499000']\n",
      " [10 'Caps' 29.0 '800000']]\n"
     ]
    }
   ],
   "source": [
    "print(X)"
   ]
  },
  {
   "cell_type": "code",
   "execution_count": 5,
   "metadata": {},
   "outputs": [
    {
     "name": "stdout",
     "output_type": "stream",
     "text": [
      "['Yes' 'Yes' 'No' 'No' 'Yes' 'Yes' 'No' 'Yes' 'Yes' 'Yes']\n"
     ]
    }
   ],
   "source": [
    "print(Y)"
   ]
  },
  {
   "cell_type": "code",
   "execution_count": 6,
   "metadata": {},
   "outputs": [],
   "source": [
    "from sklearn.impute import SimpleImputer\n",
    "imputer = SimpleImputer(missing_values=np.nan, strategy='most_frequent')\n",
    "imputer.fit(X[:, 1:3])\n",
    "X[:, 1:3] = imputer.transform(X[:,1:3])"
   ]
  },
  {
   "cell_type": "code",
   "execution_count": 7,
   "metadata": {},
   "outputs": [
    {
     "name": "stdout",
     "output_type": "stream",
     "text": [
      "[[1 'Caps' 21.0 '900000']\n",
      " [2 'Faker' 27.0 '1000000']\n",
      " [3 'Yike' 23.0 '50000']\n",
      " [4 'Caps' 22.0 '755000']\n",
      " [5 'Faker' 25.0 ' ']\n",
      " [6 'Yike' 18.0 '300000']\n",
      " [7 'Caps' 29.0 '300000']\n",
      " [8 'Faker' 29.0 '450000']\n",
      " [9 'Yike' 20.0 '499000']\n",
      " [10 'Caps' 29.0 '800000']]\n"
     ]
    }
   ],
   "source": [
    "print(X)"
   ]
  },
  {
   "cell_type": "code",
   "execution_count": 8,
   "metadata": {},
   "outputs": [],
   "source": [
    "from sklearn.compose import ColumnTransformer\n",
    "from sklearn.preprocessing import OneHotEncoder\n",
    "ct = ColumnTransformer(transformers=[('encoder', OneHotEncoder(), [0])], remainder='passthrough')\n",
    "X = np.array(ct.fit_transform(X))"
   ]
  },
  {
   "cell_type": "code",
   "execution_count": 9,
   "metadata": {},
   "outputs": [
    {
     "name": "stdout",
     "output_type": "stream",
     "text": [
      "[[1.0 0.0 0.0 0.0 0.0 0.0 0.0 0.0 0.0 0.0 'Caps' 21.0 '900000']\n",
      " [0.0 1.0 0.0 0.0 0.0 0.0 0.0 0.0 0.0 0.0 'Faker' 27.0 '1000000']\n",
      " [0.0 0.0 1.0 0.0 0.0 0.0 0.0 0.0 0.0 0.0 'Yike' 23.0 '50000']\n",
      " [0.0 0.0 0.0 1.0 0.0 0.0 0.0 0.0 0.0 0.0 'Caps' 22.0 '755000']\n",
      " [0.0 0.0 0.0 0.0 1.0 0.0 0.0 0.0 0.0 0.0 'Faker' 25.0 ' ']\n",
      " [0.0 0.0 0.0 0.0 0.0 1.0 0.0 0.0 0.0 0.0 'Yike' 18.0 '300000']\n",
      " [0.0 0.0 0.0 0.0 0.0 0.0 1.0 0.0 0.0 0.0 'Caps' 29.0 '300000']\n",
      " [0.0 0.0 0.0 0.0 0.0 0.0 0.0 1.0 0.0 0.0 'Faker' 29.0 '450000']\n",
      " [0.0 0.0 0.0 0.0 0.0 0.0 0.0 0.0 1.0 0.0 'Yike' 20.0 '499000']\n",
      " [0.0 0.0 0.0 0.0 0.0 0.0 0.0 0.0 0.0 1.0 'Caps' 29.0 '800000']]\n"
     ]
    }
   ],
   "source": [
    "print(X)"
   ]
  },
  {
   "cell_type": "code",
   "execution_count": 10,
   "metadata": {},
   "outputs": [],
   "source": [
    "from sklearn.preprocessing import LabelEncoder\n",
    "le = LabelEncoder()\n",
    "Y = le.fit_transform(Y)"
   ]
  },
  {
   "cell_type": "code",
   "execution_count": 11,
   "metadata": {},
   "outputs": [
    {
     "name": "stdout",
     "output_type": "stream",
     "text": [
      "[1 1 0 0 1 1 0 1 1 1]\n"
     ]
    }
   ],
   "source": [
    "print(Y)"
   ]
  },
  {
   "cell_type": "code",
   "execution_count": 12,
   "metadata": {},
   "outputs": [],
   "source": [
    "from sklearn.model_selection import train_test_split\n",
    "X_train, X_test, Y_train, Y_test = train_test_split(X, Y, test_size= 0.2, random_state= 1)"
   ]
  },
  {
   "cell_type": "code",
   "execution_count": 13,
   "metadata": {},
   "outputs": [
    {
     "name": "stdout",
     "output_type": "stream",
     "text": [
      "[[0.0 0.0 0.0 0.0 0.0 0.0 1.0 0.0 0.0 0.0 'Caps' 29.0 '300000']\n",
      " [0.0 0.0 0.0 0.0 1.0 0.0 0.0 0.0 0.0 0.0 'Faker' 25.0 ' ']\n",
      " [1.0 0.0 0.0 0.0 0.0 0.0 0.0 0.0 0.0 0.0 'Caps' 21.0 '900000']\n",
      " [0.0 0.0 0.0 1.0 0.0 0.0 0.0 0.0 0.0 0.0 'Caps' 22.0 '755000']\n",
      " [0.0 1.0 0.0 0.0 0.0 0.0 0.0 0.0 0.0 0.0 'Faker' 27.0 '1000000']\n",
      " [0.0 0.0 0.0 0.0 0.0 0.0 0.0 1.0 0.0 0.0 'Faker' 29.0 '450000']\n",
      " [0.0 0.0 0.0 0.0 0.0 0.0 0.0 0.0 1.0 0.0 'Yike' 20.0 '499000']\n",
      " [0.0 0.0 0.0 0.0 0.0 1.0 0.0 0.0 0.0 0.0 'Yike' 18.0 '300000']]\n"
     ]
    }
   ],
   "source": [
    "print(X_train)"
   ]
  },
  {
   "cell_type": "code",
   "execution_count": 14,
   "metadata": {},
   "outputs": [
    {
     "name": "stdout",
     "output_type": "stream",
     "text": [
      "[[0.0 0.0 1.0 0.0 0.0 0.0 0.0 0.0 0.0 0.0 'Yike' 23.0 '50000']\n",
      " [0.0 0.0 0.0 0.0 0.0 0.0 0.0 0.0 0.0 1.0 'Caps' 29.0 '800000']]\n"
     ]
    }
   ],
   "source": [
    "print(X_test)"
   ]
  },
  {
   "cell_type": "code",
   "execution_count": 15,
   "metadata": {},
   "outputs": [
    {
     "name": "stdout",
     "output_type": "stream",
     "text": [
      "[0 1 1 0 1 1 1 1]\n"
     ]
    }
   ],
   "source": [
    "print(Y_train)"
   ]
  },
  {
   "cell_type": "code",
   "execution_count": 16,
   "metadata": {},
   "outputs": [
    {
     "name": "stdout",
     "output_type": "stream",
     "text": [
      "[0 1]\n"
     ]
    }
   ],
   "source": [
    "print(Y_test)"
   ]
  },
  {
   "cell_type": "code",
   "execution_count": 17,
   "metadata": {},
   "outputs": [],
   "source": [
    "from sklearn.preprocessing import StandardScaler\n",
    "sc = StandardScaler()\n",
    "X_train[:, 1:3] = sc.fit_transform(X_train[:, 1:3])\n",
    "X_test[:, 1:3] = sc.transform(X_test[:, 1:3])"
   ]
  },
  {
   "cell_type": "code",
   "execution_count": 18,
   "metadata": {},
   "outputs": [
    {
     "name": "stdout",
     "output_type": "stream",
     "text": [
      "[[0.0 -0.3779644730092272 0.0 0.0 0.0 0.0 1.0 0.0 0.0 0.0 'Caps' 29.0\n",
      "  '300000']\n",
      " [0.0 -0.3779644730092272 0.0 0.0 1.0 0.0 0.0 0.0 0.0 0.0 'Faker' 25.0\n",
      "  ' ']\n",
      " [1.0 -0.3779644730092272 0.0 0.0 0.0 0.0 0.0 0.0 0.0 0.0 'Caps' 21.0\n",
      "  '900000']\n",
      " [0.0 -0.3779644730092272 0.0 1.0 0.0 0.0 0.0 0.0 0.0 0.0 'Caps' 22.0\n",
      "  '755000']\n",
      " [0.0 2.6457513110645903 0.0 0.0 0.0 0.0 0.0 0.0 0.0 0.0 'Faker' 27.0\n",
      "  '1000000']\n",
      " [0.0 -0.3779644730092272 0.0 0.0 0.0 0.0 0.0 1.0 0.0 0.0 'Faker' 29.0\n",
      "  '450000']\n",
      " [0.0 -0.3779644730092272 0.0 0.0 0.0 0.0 0.0 0.0 1.0 0.0 'Yike' 20.0\n",
      "  '499000']\n",
      " [0.0 -0.3779644730092272 0.0 0.0 0.0 1.0 0.0 0.0 0.0 0.0 'Yike' 18.0\n",
      "  '300000']]\n"
     ]
    }
   ],
   "source": [
    "print(X_train)"
   ]
  },
  {
   "cell_type": "code",
   "execution_count": 19,
   "metadata": {},
   "outputs": [
    {
     "name": "stdout",
     "output_type": "stream",
     "text": [
      "[[0.0 -0.3779644730092272 1.0 0.0 0.0 0.0 0.0 0.0 0.0 0.0 'Yike' 23.0\n",
      "  '50000']\n",
      " [0.0 -0.3779644730092272 0.0 0.0 0.0 0.0 0.0 0.0 0.0 1.0 'Caps' 29.0\n",
      "  '800000']]\n"
     ]
    }
   ],
   "source": [
    "print(X_test)"
   ]
  }
 ],
 "metadata": {
  "kernelspec": {
   "display_name": "Python 3 (ipykernel)",
   "language": "python",
   "name": "python3"
  },
  "language_info": {
   "codemirror_mode": {
    "name": "ipython",
    "version": 3
   },
   "file_extension": ".py",
   "mimetype": "text/x-python",
   "name": "python",
   "nbconvert_exporter": "python",
   "pygments_lexer": "ipython3",
   "version": "3.12.6"
  }
 },
 "nbformat": 4,
 "nbformat_minor": 4
}
